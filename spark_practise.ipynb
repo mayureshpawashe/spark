{
  "nbformat": 4,
  "nbformat_minor": 0,
  "metadata": {
    "colab": {
      "provenance": [],
      "authorship_tag": "ABX9TyM5+f6K+cMtnNYiJKU62Hio",
      "include_colab_link": true
    },
    "kernelspec": {
      "name": "python3",
      "display_name": "Python 3"
    },
    "language_info": {
      "name": "python"
    }
  },
  "cells": [
    {
      "cell_type": "markdown",
      "metadata": {
        "id": "view-in-github",
        "colab_type": "text"
      },
      "source": [
        "<a href=\"https://colab.research.google.com/github/mayureshpawashe/spark/blob/main/spark_practise.ipynb\" target=\"_parent\"><img src=\"https://colab.research.google.com/assets/colab-badge.svg\" alt=\"Open In Colab\"/></a>"
      ]
    },
    {
      "cell_type": "code",
      "source": [
        "!pip install pyspark"
      ],
      "metadata": {
        "id": "J4W9yHoO-Pue"
      },
      "execution_count": null,
      "outputs": []
    },
    {
      "cell_type": "markdown",
      "source": [
        "##Checking Spark Installation & Creating SparkSession"
      ],
      "metadata": {
        "id": "UoAsoD_dZW48"
      }
    },
    {
      "cell_type": "code",
      "source": [
        "from pyspark.sql import SparkSession\n",
        "\n",
        "spark = SparkSession.builder.appName(\"SparkArchitecture\").getOrCreate()\n",
        "print(\"Spark Version:\", spark.version)"
      ],
      "metadata": {
        "colab": {
          "base_uri": "https://localhost:8080/"
        },
        "id": "jJCB1u5A-Tha",
        "outputId": "433a0b94-8dd6-4553-bc78-6ca10d20d2a9"
      },
      "execution_count": null,
      "outputs": [
        {
          "output_type": "stream",
          "name": "stdout",
          "text": [
            "Spark Version: 3.5.5\n"
          ]
        }
      ]
    },
    {
      "cell_type": "markdown",
      "source": [
        "##Creating SparkSession (Driver Side)"
      ],
      "metadata": {
        "id": "4cYQfUL0aZgv"
      }
    },
    {
      "cell_type": "code",
      "source": [
        "from pyspark.sql import SparkSession\n",
        "\n",
        "spark = SparkSession.builder.appName(\"DriverExample\").getOrCreate()\n",
        "\n",
        "print(\"Driver is running and managing tasks.\")"
      ],
      "metadata": {
        "colab": {
          "base_uri": "https://localhost:8080/"
        },
        "id": "bfVQn7pU_Lys",
        "outputId": "f2f59617-71f2-4b86-cf7f-dcf1ac3d6a6f"
      },
      "execution_count": null,
      "outputs": [
        {
          "output_type": "stream",
          "name": "stdout",
          "text": [
            "Driver is running and managing tasks.\n"
          ]
        }
      ]
    },
    {
      "cell_type": "markdown",
      "source": [
        "##Running tasks on Executors"
      ],
      "metadata": {
        "id": "6_fknCfTb3BN"
      }
    },
    {
      "cell_type": "code",
      "source": [
        "from pyspark import SparkContext\n",
        "\n",
        "sc = SparkContext.getOrCreate()\n",
        "\n",
        "rdd = sc.parallelize([1, 2, 3, 4, 5])  # RDD created\n",
        "squared_rdd = rdd.map(lambda x: x**2)  # Tasks assigned to Executors\n",
        "\n",
        "print(\"RDD processed by Executors:\", squared_rdd.collect())  # Fetch results"
      ],
      "metadata": {
        "colab": {
          "base_uri": "https://localhost:8080/"
        },
        "id": "4qFZ-Ux4BbWf",
        "outputId": "e651cb42-9e22-4fb0-a5a4-eae9574a874c"
      },
      "execution_count": null,
      "outputs": [
        {
          "output_type": "stream",
          "name": "stdout",
          "text": [
            "RDD processed by Executors: [1, 4, 9, 16, 25]\n"
          ]
        }
      ]
    },
    {
      "cell_type": "markdown",
      "source": [
        "##Demonstrating Parallel Execution"
      ],
      "metadata": {
        "id": "39GQlY_FckDU"
      }
    },
    {
      "cell_type": "code",
      "source": [
        "from pyspark import SparkContext\n",
        "\n",
        "sc = SparkContext.getOrCreate()\n",
        "\n",
        "rdd = sc.parallelize(range(1, 11), numSlices=2)  # Data is split into 2 partitions\n",
        "tasks = rdd.map(lambda x: (x, x**2))  # Each partition is processed in parallel\n",
        "\n",
        "print(\"Tasks executed on Executors:\", tasks.collect())\n"
      ],
      "metadata": {
        "colab": {
          "base_uri": "https://localhost:8080/"
        },
        "id": "v_S9y52lBcxB",
        "outputId": "300cba43-02e0-47d4-b110-fc05c940ae72"
      },
      "execution_count": null,
      "outputs": [
        {
          "output_type": "stream",
          "name": "stdout",
          "text": [
            "Tasks executed on Executors: [(1, 1), (2, 4), (3, 9), (4, 16), (5, 25), (6, 36), (7, 49), (8, 64), (9, 81), (10, 100)]\n"
          ]
        }
      ]
    },
    {
      "cell_type": "markdown",
      "source": [
        "##Running Spark in Local Mode"
      ],
      "metadata": {
        "id": "XjCMFjNMeoeN"
      }
    },
    {
      "cell_type": "code",
      "source": [
        "from pyspark.sql import SparkSession\n",
        "\n",
        "spark = SparkSession.builder.master(\"local[*]\").appName(\"LocalMode\").getOrCreate()\n",
        "print(\"Spark is running in Local Mode\")\n"
      ],
      "metadata": {
        "id": "gzARrZ84CXIh",
        "outputId": "2c8929df-360a-4fc9-d6f6-ab1d4808f754",
        "colab": {
          "base_uri": "https://localhost:8080/"
        }
      },
      "execution_count": null,
      "outputs": [
        {
          "output_type": "stream",
          "name": "stdout",
          "text": [
            "Spark is running in Local Mode\n"
          ]
        }
      ]
    },
    {
      "cell_type": "markdown",
      "source": [
        "##Creating and Processing an RDD"
      ],
      "metadata": {
        "id": "xGudpDG-hMqF"
      }
    },
    {
      "cell_type": "code",
      "source": [
        "from pyspark import SparkContext\n",
        "\n",
        "sc = SparkContext.getOrCreate()\n",
        "\n",
        "# Creating an RDD from a Python list\n",
        "rdd = sc.parallelize([1, 2, 3, 4, 5, 5])\n",
        "\n",
        "squared_rdd = rdd.map(lambda x: x ** 2)  # Squaring each element\n",
        "filtered_rdd = rdd.filter(lambda x: x % 2 == 0)  # Filtering even numbers\n",
        "mapped_rdd = rdd.map(lambda x: (x, x ** 3))  # Creating key-value pairs (x, x^3)\n",
        "reduced_value = rdd.reduce(lambda x, y: x + y)  # Summing all elements\n",
        "distinct_rdd = rdd.flatMap(lambda x: (x, x)).distinct()  # Duplicating and removing duplicates\n",
        "\n",
        "print(\"RDD elements squared:\", squared_rdd.collect())\n",
        "print(\"Filtered (even numbers):\", filtered_rdd.collect())\n",
        "print(\"Mapped (x, x^3):\", mapped_rdd.collect())\n",
        "print(\"Sum of elements (reduce):\", reduced_value)\n",
        "print(\"Distinct elements (after flatMap and distinct):\", distinct_rdd.collect())\n",
        "\n",
        "\n",
        "#more methods\n",
        "count = rdd.count()  # Counting elements in the RDD\n",
        "first_element = rdd.first()  # Getting the first element\n",
        "rdd_sum = rdd.sum()  # Computing the sum of all elements\n",
        "rdd_max = rdd.max()  # Finding the max element\n",
        "rdd_min = rdd.min()  # Finding the min element\n",
        "\n",
        "print(\"Count of elements:\", count)\n",
        "print(\"First element:\", first_element)\n",
        "print(\"Sum of RDD elements:\", rdd_sum)\n",
        "print(\"Max element:\", rdd_max)\n",
        "print(\"Min element:\", rdd_min)\n"
      ],
      "metadata": {
        "colab": {
          "base_uri": "https://localhost:8080/"
        },
        "id": "nUkzg4wvXdZA",
        "outputId": "feacec56-f5f6-429c-f44f-7e762bad0036"
      },
      "execution_count": null,
      "outputs": [
        {
          "output_type": "stream",
          "name": "stdout",
          "text": [
            "RDD elements squared: [1, 4, 9, 16, 25, 25]\n",
            "Filtered (even numbers): [2, 4]\n",
            "Mapped (x, x^3): [(1, 1), (2, 8), (3, 27), (4, 64), (5, 125), (5, 125)]\n",
            "Sum of elements (reduce): 20\n",
            "Distinct elements (after flatMap and distinct): [2, 4, 1, 3, 5]\n",
            "Count of elements: 6\n",
            "First element: 1\n",
            "Sum of RDD elements: 20\n",
            "Max element: 5\n",
            "Min element: 1\n"
          ]
        }
      ]
    },
    {
      "cell_type": "markdown",
      "source": [
        "##Creating and Displaying a DataFrame"
      ],
      "metadata": {
        "id": "gSMEI94xjWO9"
      }
    },
    {
      "cell_type": "code",
      "source": [
        "from pyspark.sql import SparkSession\n",
        "\n",
        "spark = SparkSession.builder.appName(\"DataFrameExample\").getOrCreate()\n",
        "\n",
        "data = [(\"Mayuresh\", 15), (\"Onkar\", 30), (\"Rohit\", 55)]\n",
        "columns = [\"Name\", \"Age\"]\n",
        "\n",
        "df = spark.createDataFrame(data, columns)\n",
        "\n",
        "df.show()\n"
      ],
      "metadata": {
        "colab": {
          "base_uri": "https://localhost:8080/"
        },
        "id": "pMXSPchfj40d",
        "outputId": "0209ae61-44be-4aa8-8ee4-6e8c063d37d5"
      },
      "execution_count": null,
      "outputs": [
        {
          "output_type": "stream",
          "name": "stdout",
          "text": [
            "+--------+---+\n",
            "|    Name|Age|\n",
            "+--------+---+\n",
            "|Mayuresh| 15|\n",
            "|   Onkar| 30|\n",
            "|   Rohit| 55|\n",
            "+--------+---+\n",
            "\n"
          ]
        }
      ]
    },
    {
      "cell_type": "markdown",
      "source": [
        "##Basic DataFrame Operations"
      ],
      "metadata": {
        "id": "b-pJuXz3lI1Y"
      }
    },
    {
      "cell_type": "code",
      "source": [
        "from pyspark.sql import SparkSession\n",
        "\n",
        "spark = SparkSession.builder.appName(\"DataFrameOperations\").getOrCreate()\n",
        "\n",
        "data = [\n",
        "    (1, \"Mayuresh\", 25, \"Engineer\"),\n",
        "    (2, \"Onkar\", 30, \"Doctor\"),\n",
        "    (3, \"Rohit\", 35, \"Teacher\"),\n",
        "    (4, \"Arya\", 28, \"Artist\")\n",
        "]\n",
        "\n",
        "# Define schema\n",
        "columns = [\"ID\", \"Name\", \"Age\", \"Profession\"]\n",
        "\n",
        "# Create DataFrame\n",
        "df = spark.createDataFrame(data, columns)\n",
        "\n",
        "# Show DataFrame\n",
        "df.show()\n"
      ],
      "metadata": {
        "colab": {
          "base_uri": "https://localhost:8080/"
        },
        "id": "k4qN8NbllJla",
        "outputId": "6ec6cc38-e0e4-41be-9b9c-228682a43fe7"
      },
      "execution_count": null,
      "outputs": [
        {
          "output_type": "stream",
          "name": "stdout",
          "text": [
            "+---+--------+---+----------+\n",
            "| ID|    Name|Age|Profession|\n",
            "+---+--------+---+----------+\n",
            "|  1|Mayuresh| 25|  Engineer|\n",
            "|  2|   Onkar| 30|    Doctor|\n",
            "|  3|   Rohit| 35|   Teacher|\n",
            "|  4|    Arya| 28|    Artist|\n",
            "+---+--------+---+----------+\n",
            "\n"
          ]
        }
      ]
    },
    {
      "cell_type": "code",
      "source": [
        "df.printSchema()"
      ],
      "metadata": {
        "colab": {
          "base_uri": "https://localhost:8080/"
        },
        "id": "R6puxHPVwTw5",
        "outputId": "7475d645-f182-4c50-9a30-33ab62cfa90b"
      },
      "execution_count": null,
      "outputs": [
        {
          "output_type": "stream",
          "name": "stdout",
          "text": [
            "root\n",
            " |-- ID: long (nullable = true)\n",
            " |-- Name: string (nullable = true)\n",
            " |-- Age: long (nullable = true)\n",
            " |-- Profession: string (nullable = true)\n",
            "\n"
          ]
        }
      ]
    },
    {
      "cell_type": "code",
      "source": [
        "df.select(\"Name\", \"Age\").show()"
      ],
      "metadata": {
        "colab": {
          "base_uri": "https://localhost:8080/"
        },
        "id": "qBYbeNQHwV6E",
        "outputId": "9f25d14f-d215-41ef-a68c-e0438d9e2679"
      },
      "execution_count": null,
      "outputs": [
        {
          "output_type": "stream",
          "name": "stdout",
          "text": [
            "+--------+---+\n",
            "|    Name|Age|\n",
            "+--------+---+\n",
            "|Mayuresh| 25|\n",
            "|   Onkar| 30|\n",
            "|   Rohit| 35|\n",
            "|    Arya| 28|\n",
            "+--------+---+\n",
            "\n"
          ]
        }
      ]
    },
    {
      "cell_type": "code",
      "source": [
        "df.filter(df.Age > 28).show()"
      ],
      "metadata": {
        "colab": {
          "base_uri": "https://localhost:8080/"
        },
        "id": "xTfAzhBTwaM_",
        "outputId": "a9f5b7ec-cae9-40ce-d9ec-96d974aef828"
      },
      "execution_count": null,
      "outputs": [
        {
          "output_type": "stream",
          "name": "stdout",
          "text": [
            "+---+-----+---+----------+\n",
            "| ID| Name|Age|Profession|\n",
            "+---+-----+---+----------+\n",
            "|  2|Onkar| 30|    Doctor|\n",
            "|  3|Rohit| 35|   Teacher|\n",
            "+---+-----+---+----------+\n",
            "\n"
          ]
        }
      ]
    },
    {
      "cell_type": "code",
      "source": [
        "df.filter((df.Profession == \"Doctor\") | (df.Profession == \"Teacher\")).show()"
      ],
      "metadata": {
        "colab": {
          "base_uri": "https://localhost:8080/"
        },
        "id": "exGUfKI4wfBL",
        "outputId": "d54812bc-fd32-4566-8527-c9ccaa226752"
      },
      "execution_count": null,
      "outputs": [
        {
          "output_type": "stream",
          "name": "stdout",
          "text": [
            "+---+-----+---+----------+\n",
            "| ID| Name|Age|Profession|\n",
            "+---+-----+---+----------+\n",
            "|  2|Onkar| 30|    Doctor|\n",
            "|  3|Rohit| 35|   Teacher|\n",
            "+---+-----+---+----------+\n",
            "\n"
          ]
        }
      ]
    },
    {
      "cell_type": "code",
      "source": [
        "df.count()"
      ],
      "metadata": {
        "colab": {
          "base_uri": "https://localhost:8080/"
        },
        "id": "I5_xBe2QwjdX",
        "outputId": "b995330b-d647-40b4-aa36-5152ecbdabd4"
      },
      "execution_count": null,
      "outputs": [
        {
          "output_type": "execute_result",
          "data": {
            "text/plain": [
              "4"
            ]
          },
          "metadata": {},
          "execution_count": 24
        }
      ]
    },
    {
      "cell_type": "code",
      "source": [
        "df.groupBy(\"Profession\").count().show()"
      ],
      "metadata": {
        "colab": {
          "base_uri": "https://localhost:8080/"
        },
        "id": "mhQ_nUcdwm6_",
        "outputId": "ca6baf06-e2c0-458c-c947-628ef94a615c"
      },
      "execution_count": null,
      "outputs": [
        {
          "output_type": "stream",
          "name": "stdout",
          "text": [
            "+----------+-----+\n",
            "|Profession|count|\n",
            "+----------+-----+\n",
            "|    Doctor|    1|\n",
            "|  Engineer|    1|\n",
            "|   Teacher|    1|\n",
            "|    Artist|    1|\n",
            "+----------+-----+\n",
            "\n"
          ]
        }
      ]
    },
    {
      "cell_type": "code",
      "source": [
        "from pyspark.sql.functions import col\n",
        "\n",
        "df = df.withColumn(\"AgeAfter5Years\", col(\"Age\") + 5)\n",
        "df.show()\n"
      ],
      "metadata": {
        "id": "Nt_OfCxrypOP",
        "colab": {
          "base_uri": "https://localhost:8080/"
        },
        "outputId": "d868b611-7eda-4d9a-9077-0e0e9ec3e3a9"
      },
      "execution_count": 27,
      "outputs": [
        {
          "output_type": "stream",
          "name": "stdout",
          "text": [
            "+---+--------+---+----------+--------------+\n",
            "| ID|    Name|Age|Profession|AgeAfter5Years|\n",
            "+---+--------+---+----------+--------------+\n",
            "|  1|Mayuresh| 25|  Engineer|            30|\n",
            "|  2|   Onkar| 30|    Doctor|            35|\n",
            "|  3|   Rohit| 35|   Teacher|            40|\n",
            "|  4|    Arya| 28|    Artist|            33|\n",
            "+---+--------+---+----------+--------------+\n",
            "\n"
          ]
        }
      ]
    },
    {
      "cell_type": "code",
      "source": [
        "df = df.withColumnRenamed(\"Profession\", \"Job\")\n",
        "df.show()\n"
      ],
      "metadata": {
        "colab": {
          "base_uri": "https://localhost:8080/"
        },
        "id": "sld6Kb2NzvRo",
        "outputId": "1b1bb097-954d-4749-85ff-9b16e23311c7"
      },
      "execution_count": 28,
      "outputs": [
        {
          "output_type": "stream",
          "name": "stdout",
          "text": [
            "+---+--------+---+--------+--------------+\n",
            "| ID|    Name|Age|     Job|AgeAfter5Years|\n",
            "+---+--------+---+--------+--------------+\n",
            "|  1|Mayuresh| 25|Engineer|            30|\n",
            "|  2|   Onkar| 30|  Doctor|            35|\n",
            "|  3|   Rohit| 35| Teacher|            40|\n",
            "|  4|    Arya| 28|  Artist|            33|\n",
            "+---+--------+---+--------+--------------+\n",
            "\n"
          ]
        }
      ]
    },
    {
      "cell_type": "code",
      "source": [
        "df.orderBy(\"Age\").show()\n"
      ],
      "metadata": {
        "colab": {
          "base_uri": "https://localhost:8080/"
        },
        "id": "SybBGPyZz3uR",
        "outputId": "91a5da21-143e-4f0d-c880-2011e78aac08"
      },
      "execution_count": 29,
      "outputs": [
        {
          "output_type": "stream",
          "name": "stdout",
          "text": [
            "+---+--------+---+--------+--------------+\n",
            "| ID|    Name|Age|     Job|AgeAfter5Years|\n",
            "+---+--------+---+--------+--------------+\n",
            "|  1|Mayuresh| 25|Engineer|            30|\n",
            "|  4|    Arya| 28|  Artist|            33|\n",
            "|  2|   Onkar| 30|  Doctor|            35|\n",
            "|  3|   Rohit| 35| Teacher|            40|\n",
            "+---+--------+---+--------+--------------+\n",
            "\n"
          ]
        }
      ]
    },
    {
      "cell_type": "code",
      "source": [
        "df.orderBy(col(\"Age\").desc()).show()\n"
      ],
      "metadata": {
        "colab": {
          "base_uri": "https://localhost:8080/"
        },
        "id": "T01dKvtvz74Z",
        "outputId": "1851050a-9e0b-4f61-9cb5-1be76e1e8343"
      },
      "execution_count": 30,
      "outputs": [
        {
          "output_type": "stream",
          "name": "stdout",
          "text": [
            "+---+--------+---+--------+--------------+\n",
            "| ID|    Name|Age|     Job|AgeAfter5Years|\n",
            "+---+--------+---+--------+--------------+\n",
            "|  3|   Rohit| 35| Teacher|            40|\n",
            "|  2|   Onkar| 30|  Doctor|            35|\n",
            "|  4|    Arya| 28|  Artist|            33|\n",
            "|  1|Mayuresh| 25|Engineer|            30|\n",
            "+---+--------+---+--------+--------------+\n",
            "\n"
          ]
        }
      ]
    },
    {
      "cell_type": "code",
      "source": [
        "df.createOrReplaceTempView(\"people\")\n"
      ],
      "metadata": {
        "id": "MK9HNq2J0B-R"
      },
      "execution_count": 31,
      "outputs": []
    },
    {
      "cell_type": "code",
      "source": [
        "result = spark.sql(\"SELECT Name, Age FROM people WHERE Age > 28\")\n",
        "result.show()\n"
      ],
      "metadata": {
        "colab": {
          "base_uri": "https://localhost:8080/"
        },
        "id": "8FYJeED70RTT",
        "outputId": "0e821419-4a0c-4a83-f2d9-e365ce38d7f2"
      },
      "execution_count": 32,
      "outputs": [
        {
          "output_type": "stream",
          "name": "stdout",
          "text": [
            "+-----+---+\n",
            "| Name|Age|\n",
            "+-----+---+\n",
            "|Onkar| 30|\n",
            "|Rohit| 35|\n",
            "+-----+---+\n",
            "\n"
          ]
        }
      ]
    },
    {
      "cell_type": "code",
      "source": [],
      "metadata": {
        "id": "-o32MYTn0UNj"
      },
      "execution_count": null,
      "outputs": []
    }
  ]
}