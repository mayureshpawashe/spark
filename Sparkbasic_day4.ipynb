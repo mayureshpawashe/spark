{
  "nbformat": 4,
  "nbformat_minor": 0,
  "metadata": {
    "colab": {
      "provenance": [],
      "authorship_tag": "ABX9TyNCQErMO2CjulvioG5lfbbE",
      "include_colab_link": true
    },
    "kernelspec": {
      "name": "python3",
      "display_name": "Python 3"
    },
    "language_info": {
      "name": "python"
    }
  },
  "cells": [
    {
      "cell_type": "markdown",
      "metadata": {
        "id": "view-in-github",
        "colab_type": "text"
      },
      "source": [
        "<a href=\"https://colab.research.google.com/github/mayureshpawashe/spark/blob/main/Sparkbasic_day4.ipynb\" target=\"_parent\"><img src=\"https://colab.research.google.com/assets/colab-badge.svg\" alt=\"Open In Colab\"/></a>"
      ]
    },
    {
      "cell_type": "markdown",
      "source": [
        "##Spark Day 4"
      ],
      "metadata": {
        "id": "ftXnZbc2Af_D"
      }
    },
    {
      "cell_type": "markdown",
      "source": [
        "#Tungsten Code"
      ],
      "metadata": {
        "id": "7DIxq3n9Alek"
      }
    },
    {
      "cell_type": "code",
      "source": [
        "!pip install pyspark"
      ],
      "metadata": {
        "id": "oiA7yDZWDHkq"
      },
      "execution_count": null,
      "outputs": []
    },
    {
      "cell_type": "code",
      "source": [
        "from pyspark.sql import SparkSession\n",
        "spark = SparkSession.builder.appName(\"PySparkAPI\").getOrCreate()\n",
        "data = [(\"Mayuresh\", 25), (\"Onkar\", 30), (\"Rohit\", 35)]\n",
        "columns = [\"Name\", \"Age\"]\n",
        "df = spark.createDataFrame(data, columns)\n",
        "df.show()"
      ],
      "metadata": {
        "colab": {
          "base_uri": "https://localhost:8080/"
        },
        "id": "GxcXv4LNAkGP",
        "outputId": "eef80f37-f6a8-4db1-e826-aa6dfcd09c46"
      },
      "execution_count": 6,
      "outputs": [
        {
          "output_type": "stream",
          "name": "stdout",
          "text": [
            "+--------+---+\n",
            "|    Name|Age|\n",
            "+--------+---+\n",
            "|Mayuresh| 25|\n",
            "|   Onkar| 30|\n",
            "|   Rohit| 35|\n",
            "+--------+---+\n",
            "\n"
          ]
        }
      ]
    },
    {
      "cell_type": "code",
      "source": [
        "# Creating a DataFrame with a large dataset\n",
        "big_data = [(i, f\"User{i}\", i * 2) for i in range(1, 100000)]\n",
        "columns = [\"ID\", \"Name\", \"Value\"]\n",
        "df = spark.createDataFrame(big_data, columns)\n",
        "df.groupBy(\"Name\").sum(\"Value\").show()"
      ],
      "metadata": {
        "colab": {
          "base_uri": "https://localhost:8080/"
        },
        "id": "1xZSp8n9Efjm",
        "outputId": "5bb994b9-021e-4782-f155-e19c5b70b51e"
      },
      "execution_count": 7,
      "outputs": [
        {
          "output_type": "stream",
          "name": "stdout",
          "text": [
            "+--------+----------+\n",
            "|    Name|sum(Value)|\n",
            "+--------+----------+\n",
            "| User285|       570|\n",
            "| User509|      1018|\n",
            "| User958|      1916|\n",
            "|User1212|      2424|\n",
            "|User1292|      2584|\n",
            "|User1346|      2692|\n",
            "|User1690|      3380|\n",
            "|User2093|      4186|\n",
            "|User2757|      5514|\n",
            "|User2782|      5564|\n",
            "|User2977|      5954|\n",
            "|User3131|      6262|\n",
            "|User3176|      6352|\n",
            "|User3403|      6806|\n",
            "|User3819|      7638|\n",
            "|User3839|      7678|\n",
            "|User3991|      7982|\n",
            "|User4271|      8542|\n",
            "|User4494|      8988|\n",
            "|User4535|      9070|\n",
            "+--------+----------+\n",
            "only showing top 20 rows\n",
            "\n"
          ]
        }
      ]
    },
    {
      "cell_type": "markdown",
      "source": [
        "##After Tungsten (With Optimization)"
      ],
      "metadata": {
        "id": "KHfn9mFcEww9"
      }
    },
    {
      "cell_type": "code",
      "source": [
        "df.groupBy(\"Name\").sum(\"Value\").explain()"
      ],
      "metadata": {
        "colab": {
          "base_uri": "https://localhost:8080/"
        },
        "id": "BonSYiL8EsMP",
        "outputId": "3293289b-874a-4ebd-e522-7b56ac0e95cd"
      },
      "execution_count": 8,
      "outputs": [
        {
          "output_type": "stream",
          "name": "stdout",
          "text": [
            "== Physical Plan ==\n",
            "AdaptiveSparkPlan isFinalPlan=false\n",
            "+- HashAggregate(keys=[Name#27], functions=[sum(Value#28L)])\n",
            "   +- Exchange hashpartitioning(Name#27, 200), ENSURE_REQUIREMENTS, [plan_id=85]\n",
            "      +- HashAggregate(keys=[Name#27], functions=[partial_sum(Value#28L)])\n",
            "         +- Project [Name#27, Value#28L]\n",
            "            +- Scan ExistingRDD[ID#26L,Name#27,Value#28L]\n",
            "\n",
            "\n"
          ]
        }
      ]
    },
    {
      "cell_type": "markdown",
      "source": [
        "####Tungsten optimizes Spark jobs by reducing execution overhead and improving memory usage"
      ],
      "metadata": {
        "id": "4MWm1RLvE7Xk"
      }
    },
    {
      "cell_type": "markdown",
      "source": [
        "##Catalyst Optimizer Code"
      ],
      "metadata": {
        "id": "b9W7vCaPFNPt"
      }
    },
    {
      "cell_type": "code",
      "source": [
        "from pyspark.sql.functions import col\n",
        "data = [(\"Alice\", 25, \"Engineer\"), (\"Bob\", 30, \"Doctor\"), (\"Charlie\", 35, \"Teacher\")]\n",
        "columns = [\"Name\", \"Age\", \"Profession\"]\n",
        "df = spark.createDataFrame(data, columns)\n",
        "filtered_df = df.filter(col(\"Age\") > 28)\n",
        "# Show optimized execution plan\n",
        "filtered_df.explain()\n",
        "###Catalyst Optimizer ensures filtering happens before scanning, making it faster"
      ],
      "metadata": {
        "colab": {
          "base_uri": "https://localhost:8080/"
        },
        "id": "7leAK-q9FQPG",
        "outputId": "0d396611-f65c-4aa8-eca7-153f15af062f"
      },
      "execution_count": 10,
      "outputs": [
        {
          "output_type": "stream",
          "name": "stdout",
          "text": [
            "== Physical Plan ==\n",
            "*(1) Filter (isnotnull(Age#67L) AND (Age#67L > 28))\n",
            "+- *(1) Scan ExistingRDD[Name#66,Age#67L,Profession#68]\n",
            "\n",
            "\n"
          ]
        }
      ]
    },
    {
      "cell_type": "code",
      "source": [],
      "metadata": {
        "id": "0r-6Fzz4JSbO"
      },
      "execution_count": null,
      "outputs": []
    }
  ]
}